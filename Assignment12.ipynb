{
  "metadata": {
    "kernelspec": {
      "name": "python",
      "display_name": "Python (Pyodide)",
      "language": "python"
    },
    "language_info": {
      "codemirror_mode": {
        "name": "python",
        "version": 3
      },
      "file_extension": ".py",
      "mimetype": "text/x-python",
      "name": "python",
      "nbconvert_exporter": "python",
      "pygments_lexer": "ipython3",
      "version": "3.8"
    }
  },
  "nbformat_minor": 4,
  "nbformat": 4,
  "cells": [
    {
      "cell_type": "code",
      "source": "# Q1. What is a database? Differentiate between SQL and NoSQL databases.\n\n# A database is a structured collection of data that is stored and managed electronically. It allows users to efficiently store, retrieve, modify, and delete data. \n\n# SQL Databases:\n# SQL (Structured Query Language) databases are relational databases that use tables to store data.\n# Data is stored in a structured format with predefined schemas (tables with rows and columns).\n# Examples: MySQL, PostgreSQL, Oracle, MS SQL Server.\n\n# NoSQL Databases:\n# NoSQL databases are non-relational and can store data in various formats (key-value pairs, document-based, graph-based, etc.).\n# Data can be semi-structured or unstructured.\n# Examples: MongoDB, Cassandra, CouchDB, Redis.",
      "metadata": {
        "trusted": true
      },
      "outputs": [],
      "execution_count": null
    },
    {
      "cell_type": "code",
      "source": "# Q2. What is DDL? Explain why CREATE, DROP, ALTER, and TRUNCATE are used with an example.\n\n# DDL (Data Definition Language) is a set of SQL commands used to define, modify, and delete the structure of database objects like tables, indexes, and schemas.\n\n# CREATE: Used to create a new database object (like a table). Example: CREATE TABLE Students (ID INT, Name VARCHAR(100));\n# DROP: Used to delete an existing database object. Example: DROP TABLE Students;\n# ALTER: Used to modify an existing database object (e.g., adding or removing columns). Example: ALTER TABLE Students ADD Age INT;\n# TRUNCATE: Used to remove all rows from a table without deleting the structure of the table. Example: TRUNCATE TABLE Students;",
      "metadata": {
        "trusted": true
      },
      "outputs": [],
      "execution_count": null
    },
    {
      "cell_type": "code",
      "source": "# Q3. What is DML? Explain INSERT, UPDATE, and DELETE with an example.\n\n# DML (Data Manipulation Language) is used for managing data within schema objects. It allows you to insert, update, or delete data.\n\n# INSERT: Adds new data to a table. Example: INSERT INTO Students (ID, Name, Age) VALUES (1, 'John', 21);\n# UPDATE: Modifies existing data in a table. Example: UPDATE Students SET Age = 22 WHERE ID = 1;\n# DELETE: Removes data from a table. Example: DELETE FROM Students WHERE ID = 1;",
      "metadata": {
        "trusted": true
      },
      "outputs": [],
      "execution_count": null
    },
    {
      "cell_type": "code",
      "source": "# Q4. What is DQL? Explain SELECT with an example.\n\n# DQL (Data Query Language) is used to query and retrieve data from a database.\n# SELECT: Retrieves data from one or more tables based on a condition. Example: SELECT Name, Age FROM Students WHERE Age > 20;",
      "metadata": {
        "trusted": true
      },
      "outputs": [],
      "execution_count": null
    },
    {
      "cell_type": "code",
      "source": "# Q5. Explain Primary Key and Foreign Key.\n\n# Primary Key: A unique identifier for a record in a table. It cannot have NULL values, ensuring that each record is distinct. Example: In a Students table, ID can be the primary key.\n# Foreign Key: A column or a set of columns in a table that refers to the primary key in another table. It establishes a relationship between two tables. Example: In an Enrollments table, Student_ID can be a foreign key referencing ID in the Students table.",
      "metadata": {
        "trusted": true
      },
      "outputs": [],
      "execution_count": null
    },
    {
      "cell_type": "code",
      "source": "# Q6. Write a python code to connect MySQL to python. Explain the cursor() and execute() method.\n\nimport mysql.connector\n\n# Establish a connection to the database\nconn = mysql.connector.connect(\n    host='localhost',\n    user='root',\n    password='your_password',\n    database='your_database'\n)\n\n# Create a cursor object to interact with the database\ncursor = conn.cursor()\n\n# Execute a SQL query using the execute() method\ncursor.execute(\"SELECT * FROM Students\")\n\n# Fetch the result\nresult = cursor.fetchall()\nfor row in result:\n    print(row)\n\n# Close the cursor and connection\ncursor.close()\nconn.close()\n\n# cursor(): This method creates a cursor object, which is used to interact with the database. The cursor allows you to execute SQL queries and fetch results.\n# execute(): This method executes a SQL query or command. It is used for SELECT, INSERT, UPDATE, DELETE, and other operations.",
      "metadata": {
        "trusted": true
      },
      "outputs": [],
      "execution_count": null
    },
    {
      "cell_type": "code",
      "source": "# Q7. Give the order of execution of SQL clauses in an SQL query.\n\n# The order of execution of SQL clauses is as follows:\n\n# FROM: Specifies the table(s) to retrieve data from.\n# JOIN: Combines rows from two or more tables based on a related column.\n# WHERE: Filters rows based on a condition.\n# GROUP BY: Groups rows that have the same values into summary rows.\n# HAVING: Filters the groups created by GROUP BY.\n# SELECT: Specifies the columns to be returned in the result.\n# DISTINCT: Removes duplicate rows.\n# ORDER BY: Sorts the result set by one or more columns.\n# LIMIT: Restricts the number of rows returned.",
      "metadata": {
        "trusted": true
      },
      "outputs": [],
      "execution_count": null
    }
  ]
}